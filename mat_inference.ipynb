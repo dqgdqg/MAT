{
 "cells": [
  {
   "cell_type": "code",
   "execution_count": 11,
   "id": "81295001",
   "metadata": {},
   "outputs": [],
   "source": [
    "from tracemalloc import start\n",
    "import torch\n",
    "import torch.nn as nn\n",
    "from torch.utils.data import DataLoader, ConcatDataset\n",
    "from datasets.dataset import *\n",
    "# from models.Autoformer import *\n",
    "from tqdm import tqdm\n",
    "import argparse\n",
    "import random\n",
    "from scipy.signal import convolve2d\n",
    "from scipy.signal import find_peaks\n",
    "from sklearn.metrics import *\n",
    "import matplotlib.pyplot as plt\n",
    "\n",
    "from utils.tools import EarlyStopping, adjust_learning_rate, visual\n",
    "from utils.metrics import metric\n",
    "import os\n",
    "\n",
    "from my_utils import *\n",
    "%matplotlib Inline"
   ]
  },
  {
   "cell_type": "code",
   "execution_count": 14,
   "id": "8d32e365",
   "metadata": {},
   "outputs": [],
   "source": [
    "SEQ_LEN = 128\n",
    "MAST_RATIO = 0.2\n",
    "BATCH_SIZE = 128 ## Here batch size is equivelant to stride\n",
    "\n",
    "data_train = Qiang_Anomaly(setting='train', window_size=SEQ_LEN, mask_ratio=MAST_RATIO, test_mode=False, is_abs=False)\n",
    "data_valid = Qiang_Anomaly(setting='valid', window_size=SEQ_LEN, mask_ratio=MAST_RATIO, test_mode=False, is_abs=False)\n",
    "data_test = Qiang_Anomaly(setting='test', window_size=SEQ_LEN, mask_ratio=MAST_RATIO, test_mode=False, is_abs=False)"
   ]
  },
  {
   "cell_type": "code",
   "execution_count": 15,
   "id": "04a6b013",
   "metadata": {},
   "outputs": [],
   "source": [
    "data_train = ConcatDataset([data_train, data_valid])\n",
    "dataloader_train = DataLoader(data_train, batch_size=BATCH_SIZE, shuffle=False, num_workers=1, collate_fn=collate_fn)\n",
    "dataloader_test = DataLoader(data_test, batch_size=BATCH_SIZE, shuffle=False, num_workers=1, collate_fn=collate_fn)"
   ]
  },
  {
   "cell_type": "code",
   "execution_count": 39,
   "id": "5183345a",
   "metadata": {},
   "outputs": [],
   "source": [
    "for i in range(len(data_train)):\n",
    "    x, y, index_start, index_end, mask_size, meta = data_train.__getitem__(i)\n",
    "    z = np.concatenate([x, y], axis=1) # 1250 x 128\n",
    "    break"
   ]
  },
  {
   "cell_type": "code",
   "execution_count": 40,
   "id": "a8125d78",
   "metadata": {},
   "outputs": [
    {
     "data": {
      "text/plain": [
       "(1250, 128)"
      ]
     },
     "execution_count": 40,
     "metadata": {},
     "output_type": "execute_result"
    }
   ],
   "source": [
    "z.shape"
   ]
  },
  {
   "cell_type": "code",
   "execution_count": 34,
   "id": "9d9889c2",
   "metadata": {},
   "outputs": [
    {
     "data": {
      "text/plain": [
       "array([[-0.24678914, -0.3776192 ,  0.9658221 , ...,  2.4302008 ,\n",
       "        -0.46970293,  1.3147603 ],\n",
       "       [ 0.3951734 ,  0.6369433 , -0.57845384, ...,  0.44198325,\n",
       "        -0.48906913,  1.2388105 ],\n",
       "       [ 0.4352574 ,  0.561785  ,  0.19059487, ...,  0.12780744,\n",
       "        -0.9111417 , -0.7666372 ],\n",
       "       ...,\n",
       "       [ 2.976631  , -1.1930891 , -1.2396473 , ..., -1.0312737 ,\n",
       "         1.0484477 , -0.11055335],\n",
       "       [-1.8083684 , -1.0036275 , -0.02809047, ...,  0.09692855,\n",
       "         2.2451024 , -1.191607  ],\n",
       "       [-1.2881293 ,  0.48657486, -0.1956933 , ...,  0.18816543,\n",
       "         0.042319  , -0.13617405]], dtype=float32)"
      ]
     },
     "execution_count": 34,
     "metadata": {},
     "output_type": "execute_result"
    }
   ],
   "source": [
    "x"
   ]
  }
 ],
 "metadata": {
  "kernelspec": {
   "display_name": "Python [conda env:ptpy3] *",
   "language": "python",
   "name": "conda-env-ptpy3-py"
  },
  "language_info": {
   "codemirror_mode": {
    "name": "ipython",
    "version": 3
   },
   "file_extension": ".py",
   "mimetype": "text/x-python",
   "name": "python",
   "nbconvert_exporter": "python",
   "pygments_lexer": "ipython3",
   "version": "3.9.12"
  }
 },
 "nbformat": 4,
 "nbformat_minor": 5
}
